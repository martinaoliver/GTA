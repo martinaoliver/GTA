{
 "cells": [
  {
   "cell_type": "markdown",
   "metadata": {},
   "source": [
    "# Python Tutorial - Part 3\n",
    "\n",
    "---\n",
    "<a id='try_except'></a>\n",
    "# Try/Except\n",
    "\n",
    "---\n",
    "\n",
    "Python provides a method to trap errors with the code at run time to prevent the script crashing. For example, the following program will prompt for a number and  print it out. It will continue prompting until the exit condition is reached.\n",
    "\n",
    "It takes a string as input and converts it to an integer.\n",
    "\n",
    "There is a problem with this code in that if text other than a number was entered, for example \"2d\", the script would crash. Try running the code with numbers and non-numeric entries:\n"
   ]
  },
  {
   "cell_type": "code",
   "execution_count": null,
   "metadata": {},
   "outputs": [],
   "source": [
    "\n",
    "print (\"Type Control C or -1 to exit\")\n",
    "number = 1\n",
    "while number != -1:\n",
    "    number = int(input(\"Enter a number: \"))\n",
    "    print (\"You entered:\", number)\n",
    "    if number % 2 == 0:\n",
    "        print (\"You entered an even number\")\n",
    "    else:\n",
    "        print (\"You entered an odd number\")\n",
    "    "
   ]
  },
  {
   "cell_type": "markdown",
   "metadata": {
    "collapsed": true
   },
   "source": [
    "\n",
    "This can be prevented using <b>try/except</b>:\n",
    "    "
   ]
  },
  {
   "cell_type": "code",
   "execution_count": null,
   "metadata": {},
   "outputs": [],
   "source": [
    "\n",
    "print (\"Type Control C or -1 to exit\")\n",
    "number = 1\n",
    "while number != -1:\n",
    "    try: \n",
    "        number = int(input(\"Enter a number: \"))\n",
    "        print (\"You entered:\", number)\n",
    "        if number % 2 == 0:\n",
    "            print (\"You entered an even number\")\n",
    "        else:\n",
    "            print (\"You entered an odd number\")\n",
    "    except ValueError:\n",
    "        print (\"That was not a number\")\n",
    "    "
   ]
  },
  {
   "cell_type": "markdown",
   "metadata": {},
   "source": [
    "\n",
    "Now when something like <b>\"2d\"</b> is entered it prints <b>\"That was not a number\"</b> and continues without exiting.\n",
    "\n",
    "Multiple errors can be caught using more than one except if necessary. In particular, this example will only catch a ValueError but there are many other errors that can be caught e.g.ZeroDivisionError etc.\n",
    "\n"
   ]
  },
  {
   "cell_type": "markdown",
   "metadata": {},
   "source": [
    "---\n",
    "<a id='reg_exp'></a>\n",
    "\n",
    "# Regular Expressions\n",
    "\n",
    "---\n",
    "\n",
    "A regular expression (regex) is a special text string for describing a search pattern. In Python regular expressions are provided by the regular expression (re) module. The re module provides an interface to the regular expression engine, allowing you to compile REs into objects and then perform matches with them. This enables far more complex search patterns to be created than are possible with the built in string methods detailed previously.\n",
    "\n",
    "To compile and use a re:"
   ]
  },
  {
   "cell_type": "code",
   "execution_count": null,
   "metadata": {},
   "outputs": [],
   "source": [
    "                                \n",
    "import re\n",
    "\n",
    "p = re.compile(r'\\d+')   # Match any digits\n",
    "m = p.match('1 to 45')  # Apply the re\n",
    "if m:\n",
    "    print ('Match found')\n",
    "else:\n",
    "    print ('No match')\n",
    "                          "
   ]
  },
  {
   "cell_type": "markdown",
   "metadata": {},
   "source": [
    "Note the 'r' as part of the regular expression, it stands for 'raw string'. The backslash character is used in regular expressions to indicate special forms or to allow special characters to be used without invoking their special meaning. However, this collides with Python’s usage of the same character for the same purpose in string literals; for example \"\\b\" the word boundary regular expression is the character for a backspace in Python. To avoid this confusion the raw string is used, so 'r\"\\b\"' is a two-character string for a word boundary, whereas \"\\b\" is a one-character string for a backspace.\n",
    "\n",
    "The 'r' isn’t essential for all regular expressions but it should generally be used in all cases to ensure the expression is interpreted correctly.\n",
    "\n",
    "In an RE there are plenty of special characters, and it is these that both give them their power and make them appear very complicated. It's best to build up your use of REs slowly; their creation can be something of an art form.\n",
    "\n",
    "Here are some special RE characters and their meaning\n",
    "\n",
    "    .      # Any single character except a newline\n",
    "    ^      # The beginning of the line or string\n",
    "    $      # The end of the line or string\n",
    "    *      # Zero or more of the last character\n",
    "    +      # One or more of the last character\n",
    "    ?      # Zero or one of the last character\n",
    "    \n",
    "Example matches:\n",
    "\n",
    "    t.e       # t followed by anthing followed by e\n",
    "              # This will match the, tre and tle and but not te or tale\n",
    "    ^f        # f at the beginning of a line\n",
    "    ^ftp      # ftp at the beginning of a line\n",
    "    e$        # e at the end of a line \n",
    "tle$      # tle at the end of a line\n",
    "    und*      # un followed by zero or more d characters\n",
    "              # This will match un, und, undd, unddd (etc)\n",
    "    .*        # Any string without a newline. This is because the . matches\n",
    "              # anything except a newline and the * means zero or more of these\n",
    "    ^$        # A line with nothing in it\n",
    "    \n",
    "There are even more options. Square brackets are used to match any one of the characters inside them. Inside square brackets a - indicates \"between\" and a ^ at the beginning means \"not\":\n",
    "\n",
    "    [qjk]        # Either q or j or k\n",
    "    [^qjk]       # Neither q nor j nor k\n",
    "    [a-z]        # Anything from a to z inclusive\n",
    "    [^a-z]       # No lower case letters\n",
    "    [a-zA-Z]     # Any letter\n",
    "    [a-z]+       # Any non-zero sequence of lower case letters\n",
    "\n",
    "A vertical bar | represents an \"or\" and parentheses (...) can be used to group things together:\n",
    "\n",
    "    jelly|cream    # Either jelly or cream\n",
    "    (eg|le)gs      # Either eggs or legs\n",
    "    (da)+          # Either da or dada or dadada or...\n",
    "\n",
    "Here are some more special characters:\n",
    "\n",
    "    \\n        # A newline\n",
    "    \\t        # A tab\n",
    "    \\w        # Any alphanumeric (word) character.\n",
    "              # The same as [a-zA-Z0-9_]\n",
    "    \\W        # Any non-word character. The same as [^a-zA-Z0-9_]\n",
    "    \\d        # Any digit. The same as [0-9]\n",
    "    \\D        # Any non-digit. The same as [^0-9]\n",
    "    \\s        # Any whitespace character: space, tab, newline, etc\n",
    "    \\S        # Any non-whitespace character\n",
    "    \\b        # A word boundary, outside [] only\n",
    "    \\B        # No word boundary\n",
    "\n",
    "Clearly characters like |, [, ), \\, / and so on are peculiar cases in regular expressions. If you want to match for one of those then you have to preceed it by a backslash. So:\n",
    "\n",
    "    \\|        # Vertical bar\n",
    "    \\[        # An open square bracket\n",
    "    \\)        # A closing parenthesis\n",
    "    \\*        # An asterisk\n",
    "    \\^        # A carat symbol\n",
    "    \\/        # A slash\n",
    "    \\\\        # A backslash\n",
    "\n",
    "and so on.\n",
    "\n",
    "Some example REs\n",
    "\n",
    "    [01]          # Either \"0\" or \"1\"\n",
    "    \\/0           # A division by zero: \"/0\"\n",
    "    \\/ 0          # A division by zero with a space: \"/ 0\"\n",
    "    \\/\\s0         # A division by zero with a whitespace:\n",
    "                  # \"/ 0\" where the space may be a tab etc.\n",
    "    \\/ *0         # A division by zero with possibly some\n",
    "                  # spaces: \"/0\" or \"/ 0\" or \"/  0\" etc.\n",
    "    \\/\\s*0        # A division by zero with possibly some whitespace.\n",
    "    \\/\\s*0\\.0*    # As the previous one, but with decimal point and maybe\n",
    "                  # some 0s after it. Accepts \"/0.\" and  \"/0.0\" and \"/0.00\"\n",
    "                  # etc and \"/ 0.\" and \"/  0.0\" and \"/   0.00\" etc.\n"
   ]
  },
  {
   "cell_type": "markdown",
   "metadata": {},
   "source": [
    "\n",
    "---\n",
    "<a id='search_findall'></a>\n",
    "## Search and Findall\n",
    "\n",
    "---\n",
    "\n",
    "The <b>match</b> method only checks if the RE matches at the start of a string.\n",
    "\n",
    "The <b>search</b> method matches anywhere within the string.\n"
   ]
  },
  {
   "cell_type": "code",
   "execution_count": null,
   "metadata": {},
   "outputs": [],
   "source": [
    "\n",
    "import re\n",
    "\n",
    "p = re.compile(r'\\d+')   # Match any digits\n",
    "m = p.match('Try 1 to 45')  # Apply the re\n",
    "\n",
    "if m:\n",
    "    print ('Match found')\n",
    "else:\n",
    "    print ('No match')\n",
    "\n",
    "m = p.search('Try 1 to 45')  # Apply the re\n",
    "   \n",
    "if m:\n",
    "    print ('Search found')\n",
    "    \n",
    "else:\n",
    "    print ('No search found' )\n"
   ]
  },
  {
   "cell_type": "markdown",
   "metadata": {},
   "source": [
    "A biological example of using a regular expression is to search for the presence of a restriction enzyme site in a DNA sequence. For example, to see if the sequence contains the EcoRI site:"
   ]
  },
  {
   "cell_type": "code",
   "execution_count": null,
   "metadata": {},
   "outputs": [],
   "source": [
    "\n",
    "import re\n",
    "\n",
    "p = re.compile(r\"GAATTC\")  \n",
    "dna = \"ATCGCGAATTCAC\"\n",
    "if p.search(dna):\n",
    "    print(\"EcoRI restriction site found!\")\n",
    "else:\n",
    "    print(\"EcoRI restriction site not found!\")\n",
    "    "
   ]
  },
  {
   "cell_type": "markdown",
   "metadata": {},
   "source": [
    "You don't have to produce a re object and call its methods; the re module also provides top-level functions called match(), search(), sub(), etc. \n",
    "\n",
    "These functions take the same arguments as the corresponding object method, with the RE string added as the first argument, and still return either None or an object instance. "
   ]
  },
  {
   "cell_type": "code",
   "execution_count": null,
   "metadata": {},
   "outputs": [],
   "source": [
    "\n",
    "import re\n",
    "\n",
    "dna = \"ATCGCGAATTCAC\"\n",
    "if re.search(r\"GAATTC\", dna):\n",
    "    print(\"EcoRI restriction site found!\")\n",
    "else:\n",
    "     print(\"EcoRI restriction site not found!\")\n"
   ]
  },
  {
   "cell_type": "markdown",
   "metadata": {},
   "source": [
    "If a re is to be used more than once the compiled version is probably more efficient but for a single search the module level function may be preferred.\n",
    "\n",
    "The restriction enzyme AvaII matches 2 sites, GGACC and GGTCC, which could be searched using:"
   ]
  },
  {
   "cell_type": "code",
   "execution_count": null,
   "metadata": {},
   "outputs": [],
   "source": [
    "\n",
    "import re\n",
    "\n",
    "dna = \"ATCGCGAATTCAC\"\n",
    "if re.search(r\"GGACC\", dna) or re.search(r\"GGTCC\", dna):\n",
    "    print(\"AvaII restriction site found!\")\n",
    "else:\n",
    "    print(\"AvaII restriction site not found!\")\n"
   ]
  },
  {
   "cell_type": "markdown",
   "metadata": {},
   "source": [
    "However, this can be improved with a single regular expression:"
   ]
  },
  {
   "cell_type": "code",
   "execution_count": null,
   "metadata": {},
   "outputs": [],
   "source": [
    "\n",
    "import re\n",
    "\n",
    "dna = \"ATCGCGAATTCAC\"\n",
    "if re.search(r\"GG(A|T)CC\", dna):\n",
    "    print(\"AvaII restriction site found!\")\n",
    "else:\n",
    "    print(\"AvaII restriction site not found!\")\n"
   ]
  },
  {
   "cell_type": "markdown",
   "metadata": {},
   "source": [
    "If there are multiple options they can be grouped in square brackets rather than using individual ‘|’. The BisI restriction enzyme pattern is GCNGC, where N represents any base. This can searched with:"
   ]
  },
  {
   "cell_type": "code",
   "execution_count": null,
   "metadata": {},
   "outputs": [],
   "source": [
    "\n",
    "import re\n",
    "\n",
    "dna = \"ATCGCGGCTTCAC\"\n",
    "if re.search(r\"GC[ATGC]GC\", dna):\n",
    "    print(\"BisI restriction site found!\")\n",
    "else:\n",
    "    print(\"BisI restriction site not found!\")\n"
   ]
  },
  {
   "cell_type": "markdown",
   "metadata": {},
   "source": [
    "There are many options for matching characters listed above, for example ‘.’ Matches any character, ‘?’ matches zero or more of the last character etc.\n",
    "\n",
    "When used in combination complex patterns can be created. For example, to match full length eukaryotic mRNA sequences:\n",
    "\n",
    "&nbsp;&nbsp;<b>^ATG[ATGC]{30,1000}A{5,10}$</b>\n",
    "\n",
    "Matches:\n",
    "\n",
    "&nbsp;&nbsp;An ATG start codon at the beginning of the sequence<br>\n",
    "&nbsp;&nbsp;Followed by between 30 and 1000 bases which can be A, T, G or C<br>\n",
    "&nbsp;&nbsp;Finally, a poly-A tail of between 5 and 10 bases at the end of the sequence<br>\n",
    "    \n",
    "The re match object has methods and attributes that can be used to return information about the matching string. The most important ones are: \n",
    "\n",
    "&nbsp;&nbsp;<b>group()</b>&nbsp;&nbsp;Return the string matched by the RE<br>\n",
    "&nbsp;&nbsp;<b>start()</b>&nbsp;&nbsp;Return the starting position of the match<br>\n",
    "&nbsp;&nbsp;<b>end()</b>&nbsp;&nbsp;Return the ending position of the match<br>\n",
    "&nbsp;&nbsp;<b>span()</b>&nbsp;&nbsp;Return a tuple containing the (start, end) positions of the match<br>\t\n",
    "\n",
    "To match specific patterns within a string the group can be used.with search:\n"
   ]
  },
  {
   "cell_type": "code",
   "execution_count": null,
   "metadata": {},
   "outputs": [],
   "source": [
    "\n",
    "import re\n",
    "\n",
    "dna = \"ATGACGTACGTACGACTG\"\n",
    "# store the match object in the variable m\n",
    "m = re.search(r\"GA[ATGC]{3}AC\", dna)\n",
    "print(m.group())\n"
   ]
  },
  {
   "cell_type": "markdown",
   "metadata": {},
   "source": [
    "If you want to extract more than one group parenthesis are used in the match and referred to in numerical order:  "
   ]
  },
  {
   "cell_type": "code",
   "execution_count": null,
   "metadata": {},
   "outputs": [],
   "source": [
    "\n",
    "import re\n",
    "\n",
    "dna = \"ATGACGTACGTACGACTG\"\n",
    "# store the match object in the variable m\n",
    "m = re.search(r\"GA([ATGC]{3})AC([ATGC]{2})AC\", dna)\n",
    "print(\"Entire match: \" + m.group())\n",
    "print(\"First part: \" + m.group(1))\n",
    "print(\"Second part: \" + m.group(2))\n"
   ]
  },
  {
   "cell_type": "markdown",
   "metadata": {},
   "source": [
    "\n",
    "The start and end positions can be extracted with the start() and end() functions:"
   ]
  },
  {
   "cell_type": "code",
   "execution_count": null,
   "metadata": {},
   "outputs": [],
   "source": [
    "\n",
    "import re\n",
    "\n",
    "dna = \"ATGACGTACGTACGACTG\"\n",
    "m = re.search(r\"GA([ATGC]{3})AC([ATGC]{2})AC\", dna)\n",
    "print(\"Start position: \" + str(m.start()))\n",
    "print(\"End position: \" + str(m.end()))\n"
   ]
  },
  {
   "cell_type": "markdown",
   "metadata": {},
   "source": [
    "The start and ends of individual groups can also be extracted:"
   ]
  },
  {
   "cell_type": "code",
   "execution_count": null,
   "metadata": {},
   "outputs": [],
   "source": [
    "\n",
    "import re\n",
    "\n",
    "dna = \"ATGACGTACGTACGACTG\"\n",
    "m = re.search(r\"GA([ATGC]{3})AC([ATGC]{2})AC\", dna)\n",
    "print(\"Start position: \" + str(m.start()))\n",
    "print(\"End position: \" + str(m.end()))\n",
    "print(\"Group one start: \" + str(m.start(1)))\n",
    "print(\"Group one end: \" + str(m.end(1)))\n",
    "print(\"Group two start: \" + str(m.start(2)))\n",
    "print(\"Group two end: \" + str(m.end(2)))\n"
   ]
  },
  {
   "cell_type": "markdown",
   "metadata": {},
   "source": [
    "The re method findall() returns a list of all the matching strings. To find all runs of A and T in a DNA sequence longer than five bases:"
   ]
  },
  {
   "cell_type": "code",
   "execution_count": null,
   "metadata": {},
   "outputs": [],
   "source": [
    "\n",
    "import re\n",
    "\n",
    "dna = \"ACTGCATTATATCGTACGAAATTATACGCGCG\"\n",
    "atrun = re.findall(r\"[AT]{4,100}\", dna)\n",
    "print(atrun)\n"
   ]
  },
  {
   "cell_type": "markdown",
   "metadata": {},
   "source": [
    "An alternative, which provides greater flexibility, is finditer(). This returns a sequence of match objects which can be accessed in a loop:\n"
   ]
  },
  {
   "cell_type": "code",
   "execution_count": null,
   "metadata": {},
   "outputs": [],
   "source": [
    "\n",
    "import re\n",
    "\n",
    "dna = \"ACTGCATTATATCGTACGAAATTATACGCGCG\"\n",
    "runs = re.finditer(r\"[AT]{3,100}\", dna)\n",
    "for match in runs:\n",
    "    run_start = match.start()\n",
    "    run_end = match.end()\n",
    "    print(\"AT rich region from \" + str(run_start) + \" to \" + str(run_end))\n",
    "\n",
    "                                "
   ]
  },
  {
   "cell_type": "markdown",
   "metadata": {},
   "source": [
    "Regular expressions provide extensive ability to search and manipulate text.\n",
    "\n",
    "---\n",
    "\n",
    "## Exercise 19\n",
    "\n",
    "a) Write a script that opens a text file and checks each line for the presence of a particular word. Keep track of the line number and if a word is found print the line number and number of instances of the word.\n",
    "\n",
    "You can use the entamoeba.txt file for this exercise available on the <a href=\"http://teaching.bc.ic.ac.uk/msc/ipython-files/exercises.html\">Exercise Answers</a> page. A suitable word to match may be “and”.\n",
    "\n",
    "b) Modify the script so that word to search for is prompted for when the script runs and is input by the user. You will need to use the input method for this.\n",
    "\n",
    "(Answers to all exercises are available <a href=\"http://teaching.bc.ic.ac.uk/msc/ipython-files/exercises.html\">here</a>.)\n"
   ]
  },
  {
   "cell_type": "code",
   "execution_count": null,
   "metadata": {},
   "outputs": [],
   "source": []
  },
  {
   "cell_type": "markdown",
   "metadata": {},
   "source": [
    "\n",
    "---\n",
    "<a id='split'></a>\n",
    "# Split\n",
    "\n",
    "---\n",
    "\n",
    "Strings can also be split using re patterns as the string delimiter: \n"
   ]
  },
  {
   "cell_type": "code",
   "execution_count": null,
   "metadata": {},
   "outputs": [],
   "source": [
    "\n",
    "import re\n",
    "\n",
    "p = re.compile(r'\\d+') # Set any digits to be the delimiter\n",
    "\n",
    "l = p.split('There are 2 numbers and 8 words in this string.')\n",
    "\n",
    "print (l)\n"
   ]
  },
  {
   "cell_type": "markdown",
   "metadata": {},
   "source": [
    "With the maximum split number set:\n"
   ]
  },
  {
   "cell_type": "code",
   "execution_count": null,
   "metadata": {},
   "outputs": [],
   "source": [
    "\n",
    "import re\n",
    "\n",
    "p = re.compile(r'\\d+') # Set any digits to be the delimiter\n",
    "\n",
    "l = p.split('There are 2 numbers and 8 words in this string.', 1)\n",
    "\n",
    "print (l)\n"
   ]
  },
  {
   "cell_type": "markdown",
   "metadata": {},
   "source": [
    "\n",
    "An example is a consensus DNA sequence that contains ambiguity codes and you want to extract all of the runs of contiguous unambiguous bases. Split can be used to split the DNA string wherever there is a base that isn't A, T, G or C:\n"
   ]
  },
  {
   "cell_type": "code",
   "execution_count": null,
   "metadata": {},
   "outputs": [],
   "source": [
    "\n",
    "import re\n",
    "\n",
    "dna = \"ACTNGCATRGCTACGTYACGATSCGA\"\n",
    "\n",
    "p = re.compile(r\"[^ATGC]\")\n",
    "unambig = p.split(dna)\n",
    "\n",
    "print (unambig)\n"
   ]
  },
  {
   "cell_type": "markdown",
   "metadata": {},
   "source": [
    "The ^ at the start means split on everything except ATG and C.\n",
    "\n",
    "If capturing parentheses are used in the re, then everything is returned in the list, including the ambiguity codes where the split was made:\n",
    "    "
   ]
  },
  {
   "cell_type": "code",
   "execution_count": null,
   "metadata": {},
   "outputs": [],
   "source": [
    "\n",
    "import re\n",
    "\n",
    "dna = \"ACTNGCATRGCTACGTYACGATSCGA\"\n",
    "\n",
    "p = re.compile(r\"([^ATGC])\")\n",
    "unambig = p.split( dna)\n",
    "\n",
    "print (unambig)\n"
   ]
  },
  {
   "cell_type": "markdown",
   "metadata": {},
   "source": [
    "\n",
    "Note the module-level function <b>re.split()</b> adds the re to be used as the first argument, but is otherwise the same. "
   ]
  },
  {
   "cell_type": "code",
   "execution_count": null,
   "metadata": {},
   "outputs": [],
   "source": [
    "\n",
    "import re\n",
    "\n",
    "dna = \"ACTNGCATRGCTACGTYACGATSCGA\"\n",
    "\n",
    "l = re.split(r\"[^ATGC]\", dna)\n",
    "    \n",
    "print (l)\n"
   ]
  },
  {
   "cell_type": "markdown",
   "metadata": {},
   "source": [
    "\n",
    "---\n",
    "\n",
    "## Exercise 20\n",
    "\n",
    "Modify the previous script to take one command line string and split any line that contains that string. Print out each element of the list produced by split on a separate, numbered, line.\n",
    "\n",
    "You can use the entamoeba.txt file for this exercise available on the <a href=\"http://teaching.bc.ic.ac.uk/msc/ipython-files/exercises.html\">Exercise Answers</a> page. \n",
    "\n",
    "(Answers to all exercises are available <a href=\"http://teaching.bc.ic.ac.uk/msc/ipython-files/exercises.html\">here</a>.)"
   ]
  },
  {
   "cell_type": "code",
   "execution_count": null,
   "metadata": {},
   "outputs": [],
   "source": []
  },
  {
   "cell_type": "markdown",
   "metadata": {},
   "source": [
    "---\n",
    "\n",
    "# NumPy and Pandas\n",
    "\n",
    "---\n",
    "\n",
    "<b>Note: If you have installed Anaconda then NumPy, Pandas and Matplotlib are included.</b>\n",
    "\n",
    "<a id='numpy'></a>\n",
    "## NumPy\n",
    "\n",
    "One of the most common data structures required when analysing biological data is a multi-dimensional array, for example a PWM. NumPy is a Python library specifically designed for this, providing many kinds of solutions for dealing with multi-dimensional arrays and many high-level mathematical functions that operate on them. It is implemented in C and provides faster methods than the ones contained in the standard Python libraries.\n",
    "The main component of NumPy is the NumPy array, which has similarities to the Python list. They are both accessed using the index position, they are sliced using the same method and iterated in a for loop using the same syntax.\n",
    "To use NumPy the module needs to be loaded and by convention is aliased to <b>np</b>:\n"
   ]
  },
  {
   "cell_type": "code",
   "execution_count": null,
   "metadata": {},
   "outputs": [],
   "source": [
    "\n",
    "import numpy as np\n",
    "\n",
    "arr=np.array([10, 3, 23, 8, 16])\n",
    "\n",
    "print (arr[1])\n",
    "print (arr[1:3])\n",
    "\n",
    "for item in arr:\n",
    "    print(item)\n",
    "        "
   ]
  },
  {
   "cell_type": "markdown",
   "metadata": {},
   "source": [
    "\n",
    "There are significant differences between NumPy arrays and Python lists:\n",
    "\n",
    "1) The data types within a NumPy array must all be the same and cannot be mixed as they can in lists.\n",
    "\n",
    "2) Basic statistical operations can be performed on NumPy arrays using built in commands. For example:\n"
   ]
  },
  {
   "cell_type": "code",
   "execution_count": null,
   "metadata": {},
   "outputs": [],
   "source": [
    "\n",
    "import numpy as np\n",
    "\n",
    "arr=np.array([10, 3, 23, 8, 16])\n",
    "\n",
    "print (arr.mean())\n",
    "print (arr.max())\n",
    "print (arr.sum())\n",
    "print (arr.std())\n"
   ]
  },
  {
   "cell_type": "markdown",
   "metadata": {},
   "source": [
    "\n",
    "3) Python lists can be multi-dimensional but NumPy arrays are designed to implement this functionality and provide   attributes and functionality specifically designed for this.\n",
    "\n",
    "If you use arithmetic operators on Python lists, such as + or * it will add the lists together or copy the list:\n"
   ]
  },
  {
   "cell_type": "code",
   "execution_count": null,
   "metadata": {},
   "outputs": [],
   "source": [
    "    \n",
    "l1 = [1,2,3]\n",
    "l2 = [2,3,4]\n",
    "\n",
    "print (l1 + l2)    # Prints [1, 2, 3, 2, 3, 4]\n",
    "print (l1 * 2)    # Prints [1, 2, 3, 1, 2, 3]\n"
   ]
  },
  {
   "cell_type": "markdown",
   "metadata": {},
   "source": [
    "\n",
    "The NumPy version will sum the contents of lists at the same index positions or multiply each element of the list::\n"
   ]
  },
  {
   "cell_type": "code",
   "execution_count": null,
   "metadata": {},
   "outputs": [],
   "source": [
    "\n",
    "import numpy as np\n",
    "\n",
    "arr1 = np.array([1,2,3])\n",
    "arr2 = np.array([2,3,4])\n",
    "\n",
    "print (arr1 + arr2)    # Prints [3 5 7]\n",
    "print (arr1 * 2)       # Prints [2 4 6]\n"
   ]
  },
  {
   "cell_type": "markdown",
   "metadata": {},
   "source": [
    "\n",
    "To multiple the contents of 2 arrays based on index position you need to use the dot function:\n"
   ]
  },
  {
   "cell_type": "code",
   "execution_count": null,
   "metadata": {},
   "outputs": [],
   "source": [
    "\n",
    "import numpy as np\n",
    "\n",
    "arr1 = np.array([[1,2], [3,4]]) \n",
    "arr2 = np.array([[5,6], [7,8]])\n",
    "\n",
    "arr3 = np.array([9, 10])\n",
    "arr4 = np.array([11, 12])\n",
    "\n",
    "# Multiplying arr3 and arr4 (inner product of vectors) both produce 219\n",
    "print(arr3.dot(arr4)) # \tAlternatively print(np.dot(arr3, arr4))\n",
    "\n",
    "# Multiply matrix arrl and vector arr3 produces the array [29 67]\n",
    "print(arr1.dot(arr3))\n",
    "\n",
    "# Multiply the 2 matrices arr1 and arr2 produces a 2 dimensional array [[19 22][43 50]]\n",
    "print(arr1.dot(arr2))\n"
   ]
  },
  {
   "cell_type": "markdown",
   "metadata": {},
   "source": [
    "A boolean index can be applied to a numpy array to selct values based on a particular criteria, for example numbers greater than a certain value."
   ]
  },
  {
   "cell_type": "code",
   "execution_count": null,
   "metadata": {},
   "outputs": [],
   "source": [
    "\n",
    "import numpy as np\n",
    "\n",
    "arr = np.array([1, 4, 9, 12, 20, 6, 8])\n",
    "\n",
    "# Select numbers greater than 5\n",
    "# The selction returns a new numpy array\n",
    "\n",
    "new_arr = arr[arr>5]\n",
    "\n",
    "print (new_arr)\n"
   ]
  },
  {
   "cell_type": "markdown",
   "metadata": {},
   "source": [
    "---\n",
    "<a id='pandas'></a>\n",
    "## Pandas\n",
    "\n",
    "---\n"
   ]
  },
  {
   "cell_type": "markdown",
   "metadata": {},
   "source": [
    "Pandas builds on NumPy to provide an implementation of a DataFrame, which are multidimensional arrays with attached row and column labels.\n",
    "\n",
    "To use Pandas the module needs to be loaded and by convention is aliased to pd:\n",
    "\n",
    "   <b>import pandas as pd</b>\n",
    "<a id='pandas_series'></a>\n",
    "## Pandas Series\n",
    "\n",
    "A Pandas Series is an indexed one-dimensional array, which It can be created from a list or a numpy array:\n"
   ]
  },
  {
   "cell_type": "code",
   "execution_count": null,
   "metadata": {},
   "outputs": [],
   "source": [
    "\n",
    "import pandas as pd\n",
    "\n",
    "ls = [5,8,12,16,22,45]\n",
    "\n",
    "ser = pd.Series(ls)\n",
    " \n",
    "print(ser)\n"
   ]
  },
  {
   "cell_type": "markdown",
   "metadata": {},
   "source": [
    "Pandas creates an automatic index for the series, which by default is the same as the list index. However, the difference is that the index can be of any type and not just integers. The series entries can then be accessed using these index values.\n",
    "\n",
    "Values in the series are accessed in a similar way to dictionaries:\n"
   ]
  },
  {
   "cell_type": "code",
   "execution_count": null,
   "metadata": {},
   "outputs": [],
   "source": [
    "\n",
    "import pandas as pd\n",
    "\n",
    "ls = [5,8,12,16,22,45]\n",
    "\n",
    "dat = pd.Series(ls, index=['first', 'second', 'third', 'fourth', 'fifth', 'sixth'])\n",
    " \n",
    "print (dat)\n",
    "\n",
    "print ('Using index to access value:', dat['second'])\n"
   ]
  },
  {
   "cell_type": "markdown",
   "metadata": {},
   "source": [
    "\n",
    "However, unlike dictionaries the entries are ordered, which is one of the main benefits of using a series.\n",
    "\n",
    "A series can also be created directly from a dictionary and as with lists you can also use a slice on a series:\n"
   ]
  },
  {
   "cell_type": "code",
   "execution_count": null,
   "metadata": {},
   "outputs": [],
   "source": [
    "\n",
    "import pandas as pd\n",
    "\n",
    "dict = {'first':'5', 'second': '8', 'third': '12', 'fourth': '16', 'fifth': '22', 'sixth': '45'}\n",
    "\n",
    "dat = pd.Series(dict)\n",
    "\n",
    "print (dat)\n",
    "\n",
    "print('Using slice:')\n",
    "print(dat['second': 'fifth'])\n"
   ]
  },
  {
   "cell_type": "markdown",
   "metadata": {},
   "source": [
    "<a id='pandas_dataframe'></a>\n",
    "## Pandas Dataframe\n",
    "\n",
    "The real power of Pandas in its ability to create dataframes, which are essentially a mix of a NumPy array and a dictionary.\n",
    "\n",
    "A dataframe can be created from 2 r more series which have the same index:\n"
   ]
  },
  {
   "cell_type": "code",
   "execution_count": null,
   "metadata": {},
   "outputs": [],
   "source": [
    "\n",
    "import pandas as pd\n",
    "\n",
    "map_dict={'ENST':'RNA', 'ENSG':'gene', 'ENSP':'protein'}\n",
    "count_dict={'ENST': 3300, 'ENSG':18435, 'ENSP':12034}\n",
    " \n",
    "df = pd.DataFrame({'mapping': map_dict, 'counts': count_dict})\n",
    " \n",
    "print(df)\n"
   ]
  },
  {
   "cell_type": "markdown",
   "metadata": {},
   "source": [
    "There are 2 ways to access the data in a dataframe, either using the dictionary method or the Pandas method:"
   ]
  },
  {
   "cell_type": "code",
   "execution_count": 1,
   "metadata": {},
   "outputs": [
    {
     "name": "stdout",
     "output_type": "stream",
     "text": [
      "ENST     3300\n",
      "ENSG    18435\n",
      "ENSP    12034\n",
      "Name: counts, dtype: int64\n",
      "ENST     3300\n",
      "ENSG    18435\n",
      "ENSP    12034\n",
      "Name: counts, dtype: int64\n"
     ]
    }
   ],
   "source": [
    "\n",
    "import pandas as pd\n",
    "\n",
    "map_dict={'ENST':'RNA', 'ENSG':'gene', 'ENSP':'protein'}\n",
    "count_dict={'ENST': 3300, 'ENSG':18435, 'ENSP':12034}\n",
    " \n",
    "df = pd.DataFrame({'mapping': map_dict, 'counts': count_dict})\n",
    "\n",
    "print (df['counts'])   # The dictionary method\n",
    "\n",
    "print (df.counts)      # The Pandas method\n"
   ]
  },
  {
   "cell_type": "markdown",
   "metadata": {},
   "source": [
    "The benefit of the dictionary method is that it allows for whitespace in the index name.\t\n",
    "\n",
    "DataFrames are more commonly created from numpy 2-d arrays rather than dictionaries as the data source is often tab delimited format (.tsv) text file or something easily convertible to a 2-d array.\n",
    "\n",
    "The following data is a small sample of a list of performances of the two multiple aligners mafftx and raf. The values represent method, dataset,\n",
    "average pairwise identity, structural pairwise score, structural conservation index, reference structural conservation index, and how many sequences were in the dataset.\n",
    "\n",
    "The nested list could be derived from a tab delimited file."
   ]
  },
  {
   "cell_type": "code",
   "execution_count": null,
   "metadata": {
    "scrolled": false
   },
   "outputs": [],
   "source": [
    "\n",
    "import pandas as pd\n",
    "\n",
    "ls= [['ENSG00000000457', 'SCYL', '1', '169818772', '169863408', '-1'], ['ENSG00000000460', 'C1orf112', '1', '169631245', '169823221', '1'], ['ENSG00000000971', 'CFH', '1', '196621008', '196716634', '1'], ['ENSG00000001036', 'FUCA2', '6', '143815948', '143832827', '-1'],['ENSG00000001084', 'GCLC', '6', '53362139', '53481768', '-1']]\n",
    "\n",
    "cols = ['ID','Gene','Chrom','Start','End','Strand']\n",
    "dframe = pd.DataFrame(ls, columns=cols)\n",
    "\n",
    "print (dframe)\n"
   ]
  },
  {
   "cell_type": "markdown",
   "metadata": {},
   "source": [
    "When creating the dataframe the data needs to all be strings, as defined in the list creation (ls= [['mafftx','5_8S_rRNA','75','0.775230007077' etc). If reading the values from a file they will be strings by default. To convert the strings to the most appropriate numeric values:\n",
    "\n",
    "<b>dframe[['Chrom','Start','End','Strand']] = dframe[['Chrom','Start','End','Strand']].apply(pd.to_numeric)</b>\n",
    "\n",
    "To change the index of the dataframe from the default integers:\n",
    "\n",
    "<b>dframe.index=['first','second','third','fourth', 'fifth']</b>"
   ]
  },
  {
   "cell_type": "code",
   "execution_count": null,
   "metadata": {},
   "outputs": [],
   "source": [
    "\n",
    "import pandas as pd\n",
    "\n",
    "ls= [['ENSG00000000457', 'SCYL', '1', '169818772', '169863408', '-1'], ['ENSG00000000460', 'C1orf112', '1', '169631245', '169823221', '1'], ['ENSG00000000971', 'CFH', '1', '196621008', '196716634', '1'], ['ENSG00000001036', 'FUCA2', '6', '143815948', '143832827', '-1'],['ENSG00000001084', 'GCLC', '6', '53362139', '53481768', '-1']]\n",
    "\n",
    "cols = ['ID','Gene','Chrom','Start','End','Strand']\n",
    "dframe = pd.DataFrame(ls, columns=cols)\n",
    "\n",
    "dframe[['Chrom','Start','End','Strand']] = dframe[['Chrom','Start','End','Strand']].apply(pd.to_numeric)\n",
    "\n",
    "dframe.index=['first','second','third','fourth', 'fifth']\n",
    " \n",
    "print (dframe)\n"
   ]
  },
  {
   "cell_type": "markdown",
   "metadata": {},
   "source": [
    "If you want to access specific columns they can be selected. The results will be another dataframe, which can then be stored.\n"
   ]
  },
  {
   "cell_type": "code",
   "execution_count": null,
   "metadata": {},
   "outputs": [],
   "source": [
    "\n",
    "import pandas as pd\n",
    "\n",
    "ls= [['ENSG00000000457', 'SCYL', '1', '169818772', '169863408', '-1'], ['ENSG00000000460', 'C1orf112', '1', '169631245', '169823221', '1'], ['ENSG00000000971', 'CFH', '1', '196621008', '196716634', '1'], ['ENSG00000001036', 'FUCA2', '6', '143815948', '143832827', '-1'],['ENSG00000001084', 'GCLC', '6', '53362139', '53481768', '-1']]\n",
    "\n",
    "cols = ['ID','Gene','Chrom','Start','End','Strand']\n",
    "dframe = pd.DataFrame(ls, columns=cols)\n",
    "\n",
    "dframe[['Chrom','Start','End','Strand']] = dframe[['Chrom','Start','End','Strand']].apply(pd.to_numeric)\n",
    "\n",
    "new_dframe = dframe[['Chrom','Strand']] \n",
    "print (new_dframe)\n"
   ]
  },
  {
   "cell_type": "markdown",
   "metadata": {},
   "source": [
    "\n",
    "<a id='pandas_dataframe_slicing'></a>\n",
    "### Slicing\n",
    "\n",
    "You can slice a dataframe to create a new dataframe of selected data. Depending on the type of the index there are 2 slice methods:\n",
    "\n",
    "<b>dframe.iloc \t# integer-location indexing\n",
    "dframe.loc \t# label-location indexing</b>\n",
    "\n",
    "Note that the integer form (iloc) does not include the last index position but the label indexing does:\n",
    "\n",
    "<b>print (dframe.iloc[1:4]) # Will print indexes rows 1- 4 as indexing starts at 0\n",
    "print (dframe.loc['First': 'Fourth']) # Will print rows 'First' to 'Fourth'</b>\n",
    "\n",
    "Columns within the dataframe can also be selected at the same time but care needs to be taken if the integer row index is required. For a string row index the following is used:\n",
    "\n",
    "<b>dframe.loc['second':'fourth','ID':'Chrom']</b>\n",
    "\n",
    "However, if loc is used with an integer index then:\n"
   ]
  },
  {
   "cell_type": "code",
   "execution_count": null,
   "metadata": {},
   "outputs": [],
   "source": [
    "\n",
    "import pandas as pd\n",
    "\n",
    "ls= [['ENSG00000000457', 'SCYL', '1', '169818772', '169863408', '-1'], ['ENSG00000000460', 'C1orf112', '1', '169631245', '169823221', '1'], ['ENSG00000000971', 'CFH', '1', '196621008', '196716634', '1'], ['ENSG00000001036', 'FUCA2', '6', '143815948', '143832827', '-1'],['ENSG00000001084', 'GCLC', '6', '53362139', '53481768', '-1']]\n",
    "\n",
    "cols = ['ID','Gene','Chrom','Start','End','Strand']\n",
    "dframe = pd.DataFrame(ls, columns=cols)\n",
    "\n",
    "print (dframe[['ID','Chrom','Start']])\n"
   ]
  },
  {
   "cell_type": "markdown",
   "metadata": {},
   "source": [
    "This may not be the expected result as it includes row ‘4’, which would be expected to be omitted as this is index position 4. The reason it is included is because loc treats the numbers as strings. To use the integer index loc and iloc need to be combined:"
   ]
  },
  {
   "cell_type": "code",
   "execution_count": null,
   "metadata": {},
   "outputs": [],
   "source": [
    "\n",
    "import pandas as pd\n",
    "\n",
    "ls= [['ENSG00000000457', 'SCYL', '1', '169818772', '169863408', '-1'], ['ENSG00000000460', 'C1orf112', '1', '169631245', '169823221', '1'], ['ENSG00000000971', 'CFH', '1', '196621008', '196716634', '1'], ['ENSG00000001036', 'FUCA2', '6', '143815948', '143832827', '-1'],['ENSG00000001084', 'GCLC', '6', '53362139', '53481768', '-1']]\n",
    "\n",
    "cols = ['ID','Gene','Chrom','Start','End','Strand']\n",
    "dframe = pd.DataFrame(ls, columns=cols)\n",
    "\n",
    "print (dframe.iloc[1:4].loc[:,'ID':'Gene'])\n",
    "\n",
    "print (dframe.iloc[1:4].loc[:,'ID'])\n"
   ]
  },
  {
   "cell_type": "markdown",
   "metadata": {},
   "source": [
    "<a id='pandas_dataframe_boolean_index'></a>\n",
    "### Boolean Index\n",
    "\n",
    "As with NumPy arrays boolean indexes can be used on Pandas dataframes.\n",
    "\n",
    "The boolean index is created on the appropriate column, for example to select all genes on the forward strand:\n",
    "\n",
    "<b>bool_index = dframe.Strand == 1</b>\n",
    "\n",
    "This can then be applied to the dataframe to return all rows matching the selection:\n",
    "\n",
    "<b>new_df = dframe[bool_index]</b>\n"
   ]
  },
  {
   "cell_type": "code",
   "execution_count": null,
   "metadata": {},
   "outputs": [],
   "source": [
    "\n",
    "import pandas as pd\n",
    "\n",
    "ls= [['ENSG00000000457', 'SCYL', '1', '169818772', '169863408', '-1'], ['ENSG00000000460', 'C1orf112', '1', '169631245', '169823221', '1'], ['ENSG00000000971', 'CFH', '1', '196621008', '196716634', '1'], ['ENSG00000001036', 'FUCA2', '6', '143815948', '143832827', '-1'],['ENSG00000001084', 'GCLC', '6', '53362139', '53481768', '-1']]\n",
    "\n",
    "cols = ['ID','Gene','Chrom','Start','End','Strand']\n",
    "dframe = pd.DataFrame(ls, columns=cols)\n",
    "\n",
    "dframe[['Chrom','Start','End','Strand']] = dframe[['Chrom','Start','End','Strand']].apply(pd.to_numeric)\n",
    "\n",
    "bool_index = dframe.Strand == 1\n",
    "new_dframe = dframe[bool_index]\n",
    "\n",
    "print (new_dframe)\n"
   ]
  },
  {
   "cell_type": "markdown",
   "metadata": {},
   "source": [
    "\n",
    "---\n",
    "\n",
    "## Exercise 21\n",
    "\n",
    "For this exercise you will need the gene_expressions.txt file, available from the <a href=\"http://teaching.bc.ic.ac.uk/msc/ipython-files/exercises.html\">Exercise Answers</a> page. This file contains sample rows from a RNA-seq gene expression experiment. The file contains 10 rows from the original 7000.\n",
    "\n",
    "Write a script that uses Pandas to build a dataframe of the data in this file. The script should then print the Ensembl ID, log2 fold change and p-value for all genes with a p-value less than 0.05.\n",
    "\n",
    "(Answers to all exercises are available <a href=\"http://teaching.bc.ic.ac.uk/msc/ipython-files/exercises.html\">here</a>.)"
   ]
  },
  {
   "cell_type": "code",
   "execution_count": null,
   "metadata": {},
   "outputs": [],
   "source": []
  },
  {
   "cell_type": "markdown",
   "metadata": {},
   "source": [
    "---\n",
    "\n",
    "This is only a brief introduction to the functionality of NumPy and Pandas and full documentation is available at:\n",
    "\n",
    "<b>NumPy - https://docs.scipy.org/doc/numpy/user/index.html</b><br>\n",
    "<b>Pandas - https://pandas.pydata.org/</b>\n",
    "\n",
    "There also many online tutorials.\n",
    "\n",
    "---\n",
    "\n",
    "<a id='plots'></a>\n",
    "# Producing Plots\n",
    "\n",
    "---\n",
    "\n",
    "The python module <b>matplotlib</b> can be used to generate plots and is available in the <b>SciPy</b> package.\n",
    "\n",
    "This package should be installed but to test it and to demonstrate the functionality of matplotlib create the following script and run it: "
   ]
  },
  {
   "cell_type": "code",
   "execution_count": null,
   "metadata": {},
   "outputs": [],
   "source": [
    "\n",
    "from pylab import *\n",
    "\n",
    "x_data = [0, 1, 2,  3, 4, 5, 6]\n",
    "y_data = [0, 1, 0, -1, 0, 1, 0]\n",
    "\n",
    "plot(x_data, y_data)\n",
    "\n",
    "xlabel(\"This is the x label\")\n",
    "ylabel(\"This is the y label\")\n",
    "title(\"Here is the title\")\n",
    "\n",
    "grid(True)\n",
    "\n",
    "show()\n"
   ]
  },
  {
   "cell_type": "markdown",
   "metadata": {},
   "source": [
    "\n",
    "### Explanation of the Code\n",
    "\n",
    "<b>from pylab import *</b> - imports all of the modules from the pylab library\n",
    "\n",
    "<b>x_data = [0, 1, 2,  3, 4, 5, 6]</b>\n",
    "<b>y_data = [0, 1, 0, -1, 0, 1, 0]</b> - these are the lists for the X and Y axis coordinates\n",
    "   \n",
    "<b>plot(x_data, y_data)</b> - plots the graph using coordinates declared above\n",
    "\n",
    "<b>xlabel(\"This is the x label\")</b>\n",
    "<b>ylabel(\"This is the y label\")</b>\n",
    "<b>title(\"Here is the title\")</b> - labels for the X and Y axis and the title\n",
    "\n",
    "<b>grid(True)</b> - shows the grid on the plot\n",
    "   \n",
    "<b>show()</b> - displays the plot on the screen\n",
    "\n",
    "If you want to save the image rather than displaying it you can use the savefig command rather than show:\n",
    "\n",
    "<b>savefig('plot1.png', dpi=80)</b>\n",
    "\n",
    "---\n",
    "<a id='hydrophobicity_plot'></a>\n",
    "## Hydrophobicity Plot\n",
    "\n",
    "---\n",
    "\n",
    "Every amino acid has a certain hydrohobicity prevalence and this can be used to predict membrane spanning regions of proteins as these regions will have high values. We can use these values to plot the hydrophobicity of a protein along its entire length. As an example write a script for the code below and run it. This code uses the Kyte and Doolittle hydrophobicity scale, which is widely used to delineate the hydrophobic properties of proteins:\n"
   ]
  },
  {
   "cell_type": "code",
   "execution_count": null,
   "metadata": {},
   "outputs": [],
   "source": [
    "\n",
    "from pylab import *\n",
    "\n",
    "y_data = [1.8, -3.5, 4.5, -0.7, -0.4, -4.5, -1.6, -3.5, -0.9, 4.5, -0.9, 3.8, 1.8, 3.8, 0.4, -0.7, 1.8, 3.8, 1.9, -0.4]\n",
    "\n",
    "x_data = range(1, len(y_data)+1)\n",
    "\n",
    "plot(x_data, y_data)\n",
    "\n",
    "xlabel(\"Residue number\")\n",
    "ylabel(\"Hydrophobicity\")\n",
    "title(\"Kyte & Doolittle Hydrophobicity\")\n",
    "show()\n"
   ]
  },
  {
   "cell_type": "markdown",
   "metadata": {},
   "source": [
    "\n",
    "The code is essentially the same as before except for setting the X axis value:\n",
    "\n",
    "<b>&nbsp;&nbsp;&nbsp;&nbsp;&nbsp;&nbsp;x_data = range(1, len(y_data)+1)</b>\n",
    "\n",
    "This is for the number of amino acid residues so is equal to the number of values plotted for the Y axis.\n",
    "\n",
    "Normally a range starts at 0 but protein amino acids coordinates start at 1 so the range is adjusted accordingly so the first point on the plot is at residue 1.\n",
    "\n",
    "The adjustment to the range means that there is a gap at the start of the plot between residue 0 and 1. this can be corrected by modifying the axis, in this case the X axis. Add the following code to your script, after <b>plot(x_data, y_data)</b>, and run it again:\n",
    "\n",
    "<b>&nbsp;&nbsp;&nbsp;&nbsp;&nbsp;&nbsp;residue_count = len(y_data)\n",
    "&nbsp;&nbsp;&nbsp;&nbsp;&nbsp;&nbsp;axis(xmin = 1, xmax = residue_count)</b> - adjusts the X axis to start at 1\n",
    "\n",
    "\n",
    "The gap should now be removed.\n",
    "\n",
    "The Y axis be adjusted using the same axis command.\n",
    "\n",
    "---\n",
    "\n",
    "## Exercise 22\n",
    "\n",
    "a) The exercise is to produce a plot for a real protein using Kyte and Doolittle values. For this task you will need the following files:\n",
    "\n",
    "5HT1A_HUMAN.fasta - This is the human 5-hydroxytryptamine receptor 1A protein sequence that you will use for the plot.\n",
    "\n",
    "hydrophobicity_values.txt - This is a file of the Kyte and Doolittle values for all amino acids. The file has the amino acid on one line and the hydrophobicity value on the next:\n",
    "\n",
    "<b>&nbsp;&nbsp;&nbsp;&nbsp;&nbsp;&nbsp;A<br>\n",
    "&nbsp;&nbsp;&nbsp;&nbsp;&nbsp;&nbsp;1.8<br>\n",
    "&nbsp;&nbsp;&nbsp;&nbsp;&nbsp;&nbsp;R<br>\n",
    "&nbsp;&nbsp;&nbsp;&nbsp;&nbsp;&nbsp;-4.5<br>\n",
    "&nbsp;&nbsp;&nbsp;&nbsp;&nbsp;&nbsp;etc</b><br><br>\n",
    "\n",
    "These can be downloaded from the <a href=\"http://teaching.bc.ic.ac.uk/msc/ipython-files/exercises.html\">Exercise Answers</a> page.\n",
    "\n",
    "Write a script with the following functionality:\n",
    "\n",
    "1) Reads the 5HT1A_HUMAN.fasta file and stores the amino acid sequence and description in separate variables. The file is in fasta format so the first line is just the sequence description, starting with a \">\", and the subsequent lines are the actual sequence. You'll need the description for the plot label so you can use any part of the description line for this.\n",
    "\n",
    "Note that the sequence itself is over multiple lines.\n",
    "\n",
    "2) Reads the hydrophobicity_values.txt file and stores the values in a dictionary. The keys for the dictionary should be the amino acids and the values the hydrophobicity values.\n",
    "\n",
    "3) Test the dictionary by printing to screen the Kyte and Doolitle hydrophbicity values for each amino acid in the 5HT1A_HUMAN sequence, separated by commas. The output should look like this:\n",
    "\n",
    "1.9, -3.5, 4.2, 3.8, -0.8, -1.6, -0.4, -3.5, -0.4, -3.5, -3.5, -0.7, -0.7, -0.8, -1.6, -1.6, 1.8, -1.6, 2.8, -3.5, -0.7, -0.4, -0.4, -3.5, -0.7, -0.7, -0.4, 4.5  , -0.8, -3.5, 4.2, -0.7, 4.2, -0.8, -1.3, -3.5, 4.2, 4.5, -0.7, -0.8, 3.8, 3.8, 3.8, -0.4, -0.7, 3.8, 4.5, 2.8, 2.5, 1.8, 4.2, 3.8, -0.4, -3.5, 1.8, 1.8, 3.8, -1.3, -3.5, 4.2, 3.8, -3.5, -3.9, -0.9, -0.7, 3.8, -0.4, -3.5, 4.2, -0.7, 2.5, -3.5, etc ...\n",
    "\n",
    "Modify the script using the earlier code to draw the hydrophobicity plot for the 5HT1A_HUMAN sequence.\n",
    "\n",
    "The output should look like this:\n",
    "\n",
    "![title](img/plot3.jpg)\n",
    "\n",
    "The plot produced is difficult to interpret as it’s very noisy. The reason for this is that each residue has a hydrophobicity value but for hydrophobic regions, such as trans-membrane, several hydrophobic residues in a row are more significant.\n",
    "\n",
    "To better predict these regions it is better to take an average for a residues and its neighbours. To start, try averaging the residue and its 2 neighbours, left and right. As the first and last residues don’t have neighbours they’ll be ignored.\n",
    "\n",
    "b) Modify your code to plot the average hydrophobicity values for 3 amino acids at a time. When calculating the average you may have to ensure all of the variables are numbers and not strings. You can do that with:\n",
    "\n",
    "<b>&nbsp;&nbsp;&nbsp;&nbsp;&nbsp;&nbsp;average = float(var1) + float(var2) + float(var3) / 3</b><br><br>\n",
    "   \n",
    "\n",
    "The resulting plot should look like this:\n",
    "\n",
    "![title](img/plot4.jpg)\n",
    "\n",
    "This is called <b>data smoothing</b> as it filters out the noise to better display the underlying pattern.\n",
    "\n",
    "The code currently averages over 3 residues but when trying to identify transmembrane regions a window size of 15 is more suitable.\n",
    "\n",
    "c) Update your code to implement this value, which will require the average value of each residue and its 7 neighbours either side.\n",
    "\n",
    "It would be inefficient to create different variables for all 15 residue values, such as left1, left 2, etc, so calculate the average for each 15 residue group by using a loop.\n",
    "\n",
    "(Answers to all exercises are available <a href=\"http://teaching.bc.ic.ac.uk/msc/ipython-files/exercises.html\">here</a>.)\n",
    "\n"
   ]
  },
  {
   "cell_type": "code",
   "execution_count": null,
   "metadata": {},
   "outputs": [],
   "source": []
  },
  {
   "cell_type": "markdown",
   "metadata": {},
   "source": [
    "---\n",
    "\n",
    "## ProtScale\n",
    "\n",
    "---\n",
    "\n",
    "Plots can be generated online and you can check your plot by generating one with <b>ProtScale</b> at the <b>ExPASy</b> website:\n",
    "\n",
    "    http://web.expasy.org/protscale\n",
    "\n",
    "Enter the UniProt/SwissProt ID \"5HT1A_HUMAN\". This is the human 5-hydroxytryptamine 1A receptor.\n",
    "\n",
    "Use window size 15, which is appropriate when searching for transmembrane regions and is the value used in your code, and press \"Submit\".\n",
    "\n",
    "On the next screen (Selection of endpoints on the sequence) press \"Submit\" again as you will be searching the whole sequence. \n",
    "\n",
    "On the final results screen you will see a number of broad peaks with values above 1.5, corresponding to the transmembrane regions.\n",
    "\n",
    "Does the plot look the same as yours?\n",
    "\n",
    "---\n",
    "<a id='gc_at_plot'></a>\n",
    "## GC/AT Content Plot\n",
    "---\n",
    "\n",
    "## Exercise 23\n",
    "\n",
    "For this exercise you will need the Entamoeba_Sequence.fasta file, which can be downloaded from the <a href=\"http://teaching.bc.ic.ac.uk/msc/ipython-files/exercises.html\">Exercise Answers</a> page.\n",
    "\n",
    "The <i>Entamoeba histolytica</i> genome is very AT rich, which can be demonstrated by plotting the GC and AT percentages.\n",
    "\n",
    "The file <b>Entamoeba_Sequence.fasta</b> contains the sequence of one of the contigs of the sequenced E histolytica genome.\n",
    "\n",
    "Write a script that uses matplotlib to plot graphs of the GC and AT percentage content of the sequence. \n",
    "\n",
    "To identify the percentage content you should use a 100 nucleotide rolling window and your plots should display the percentage GC and AT for each 100 nucleotides.  The rolling window should measure each consecutive 100 nucleotides i.e 1-100, 101-200, 201-300 etc\n",
    "\n",
    "You may find it helpful to look at the matplotlib (http://matplotlib.org) web site, in particular http://matplotlib.org/users/pyplot_tutorial.html\n",
    "\n",
    "(Answers to all exercises are available <a href=\"http://teaching.bc.ic.ac.uk/msc/ipython-files/exercises.html\">here</a>.)\n"
   ]
  },
  {
   "cell_type": "code",
   "execution_count": null,
   "metadata": {},
   "outputs": [],
   "source": []
  },
  {
   "cell_type": "markdown",
   "metadata": {
    "collapsed": true
   },
   "source": [
    "\n",
    "---\n",
    "\n",
    "<b>Note: If you have installed Anaconda then NumPy, Pandas and Matplotlib are included.</b>\n",
    "\n",
    "---\n",
    "\n",
    "<b>The fourth part of the Python tutorial is available <a href=\"PythonTutorial_Pt4.ipynb\">here</a>.</b><br><br>"
   ]
  },
  {
   "cell_type": "code",
   "execution_count": null,
   "metadata": {},
   "outputs": [],
   "source": []
  }
 ],
 "metadata": {
  "anaconda-cloud": {},
  "kernelspec": {
   "display_name": "Python 3",
   "language": "python",
   "name": "python3"
  },
  "language_info": {
   "codemirror_mode": {
    "name": "ipython",
    "version": 3
   },
   "file_extension": ".py",
   "mimetype": "text/x-python",
   "name": "python",
   "nbconvert_exporter": "python",
   "pygments_lexer": "ipython3",
   "version": "3.7.4"
  }
 },
 "nbformat": 4,
 "nbformat_minor": 1
}
