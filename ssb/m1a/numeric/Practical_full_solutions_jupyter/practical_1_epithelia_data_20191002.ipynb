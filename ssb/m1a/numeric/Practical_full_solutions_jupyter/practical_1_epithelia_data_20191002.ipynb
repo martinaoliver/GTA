{
 "cells": [
  {
   "cell_type": "markdown",
   "metadata": {},
   "source": [
    "asdf"
   ]
  },
  {
   "cell_type": "code",
   "execution_count": 1,
   "metadata": {},
   "outputs": [],
   "source": [
    "import numpy as np\n",
    "import pandas as pd\n",
    "import matplotlib.pyplot as plt\n",
    "# use this in jupyter notebooks - it's a magic function!\n",
    "%matplotlib inline"
   ]
  },
  {
   "cell_type": "code",
   "execution_count": 7,
   "metadata": {},
   "outputs": [
    {
     "name": "stdout",
     "output_type": "stream",
     "text": [
      "       n    1   2   3\n",
      "0      3    3   1   2\n",
      "1      4   11   8   5\n",
      "2      5   31  14  18\n",
      "3      6   36  35  32\n",
      "4      7   13  16  16\n",
      "5      8   10   5   5\n",
      "6      9    1   0   0\n",
      "7     10    0   0   0\n",
      "8  Total  105  79  78\n",
      "       n    1   2    3\n",
      "0      3    1   2    1\n",
      "1      4   19   7    8\n",
      "2      5   38  18   25\n",
      "3      6   31  15   36\n",
      "4      7   28  17   24\n",
      "5      8    7   2    7\n",
      "6      9    4   0    0\n",
      "7     10    1   1    0\n",
      "8  Total  129  62  101\n"
     ]
    }
   ],
   "source": [
    "# Question 1\n",
    "# this imports as a pandas data frame, which is (loosely) like numpy array with\n",
    "# labels for the rows and columns\n",
    "csheet = pd.read_excel('Practical_data_files/Epithelia_polygon_data.xls', sheet_name = 'Control')\n",
    "msheet = pd.read_excel('Practical_data_files/Epithelia_polygon_data.xls', sheet_name = 'Mutant')\n",
    "\n",
    "print(csheet)\n",
    "print(msheet)"
   ]
  },
  {
   "cell_type": "code",
   "execution_count": 12,
   "metadata": {},
   "outputs": [
    {
     "data": {
      "text/plain": [
       "0    3\n",
       "1    4\n",
       "2    5\n",
       "3    6\n",
       "4    7\n",
       "5    8\n",
       "6    9\n",
       "Name: n, dtype: object"
      ]
     },
     "execution_count": 12,
     "metadata": {},
     "output_type": "execute_result"
    }
   ],
   "source": [
    "\n",
    "#Question 2\n",
    "C1 = csheet[0:7]['n'] # vector of polygon classes\n",
    "C2 = csheet[0:7][[1,2,3]] # matrix frequencies of polygon classes\n",
    "\n",
    "mc = np.mean(C2, 1)#mean frequency of each polygon class (1 means average horizontally)\n",
    "sc = np.std(C2, 1, ddof=1) # ddof means weight by N not N-1 (like matlab std(C2,1,2)\n",
    "\n",
    "# use in jupyter notebooks\n",
    "#%matplotlib inline\n"
   ]
  },
  {
   "cell_type": "code",
   "execution_count": 14,
   "metadata": {},
   "outputs": [
    {
     "name": "stdout",
     "output_type": "stream",
     "text": [
      "[0, 1, 2, 3, 4, 5, 6]\n"
     ]
    },
    {
     "data": {
      "image/png": "[encoded data removed]",
      "text/plain": [
       "<Figure size 432x288 with 1 Axes>"
      ]
     },
     "metadata": {},
     "output_type": "display_data"
    }
   ],
   "source": [
    "plt.style.use('ggplot')\n",
    "x_pos = [i for i, _ in enumerate(mc)]\n",
    "plt.bar(C1, mc, color='red', yerr=sc,\n",
    "        align='center',\n",
    "        ecolor='black',\n",
    "        linewidth=2.0,\n",
    "        capsize=3)\n",
    "\n",
    "plt.xlabel(\"Polygon Class n\")\n",
    "plt.ylabel(\"Control\")\n",
    "plt.grid(False)\n",
    "plt.show()"
   ]
  },
  {
   "cell_type": "code",
   "execution_count": 15,
   "metadata": {},
   "outputs": [],
   "source": [
    "# Mutant data\n",
    "C1m = msheet[0:7]['n'] # vector of polygon classes\n",
    "C2m = msheet[0:7][[1,2,3]] # matrix frequencies of polygon classes\n",
    "\n",
    "meanmut = np.mean(C2m, 1) #mean frequency of each polygon class\n",
    "stdmut = np.std(C2m, 1, ddof=1) # ddof means weight by N not N-1 (like matlab std(C2,1,2)\n"
   ]
  },
  {
   "cell_type": "code",
   "execution_count": 16,
   "metadata": {},
   "outputs": [
    {
     "data": {
      "image/png": "[encoded data removed]",
      "text/plain": [
       "<Figure size 432x288 with 1 Axes>"
      ]
     },
     "metadata": {},
     "output_type": "display_data"
    }
   ],
   "source": [
    "\n",
    "plt.style.use('ggplot')\n",
    "x_pos = [i for i, _ in enumerate(stdmut)]\n",
    "plt.bar(C1m, meanmut, color='blue', yerr=sc,\n",
    "        align='center',\n",
    "        ecolor='black',\n",
    "        linewidth=2.0,\n",
    "        capsize=3)\n",
    "\n",
    "plt.xlabel(\"Polygon Class n\")\n",
    "plt.ylabel(\"Control\")\n",
    "plt.grid(False)\n",
    "plt.show()"
   ]
  },
  {
   "cell_type": "markdown",
   "metadata": {},
   "source": []
  }
 ],
 "metadata": {
  "kernelspec": {
   "display_name": "Python 3",
   "language": "python",
   "name": "python3"
  },
  "language_info": {
   "codemirror_mode": {
    "name": "ipython",
    "version": 3
   },
   "file_extension": ".py",
   "mimetype": "text/x-python",
   "name": "python",
   "nbconvert_exporter": "python",
   "pygments_lexer": "ipython3",
   "version": "3.7.4"
  }
 },
 "nbformat": 4,
 "nbformat_minor": 4
}
