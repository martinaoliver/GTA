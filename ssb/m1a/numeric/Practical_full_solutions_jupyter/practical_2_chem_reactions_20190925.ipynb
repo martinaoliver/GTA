{
 "cells": [
  {
   "cell_type": "markdown",
   "metadata": {},
   "source": [
    "## Chemical Reactions\n",
    "\n",
    "model answer"
   ]
  },
  {
   "cell_type": "code",
   "execution_count": 1,
   "metadata": {},
   "outputs": [],
   "source": [
    "import numpy as np\n",
    "import scipy.integrate\n",
    "from timeit import default_timer as timer\n",
    "import matplotlib.pyplot as plt\n",
    "%matplotlib inline"
   ]
  },
  {
   "cell_type": "code",
   "execution_count": 2,
   "metadata": {},
   "outputs": [],
   "source": [
    "def dydt(t,y,k1,k2):\n",
    "\n",
    "    A, B = y\n",
    "    dAdt = -2*k1*A**2 + 2*k2*B \n",
    "    dBdt =  k1*A**2-k2*B\n",
    "    return (dAdt, dBdt)"
   ]
  },
  {
   "cell_type": "code",
   "execution_count": 3,
   "metadata": {},
   "outputs": [],
   "source": [
    "def euler(dydt,time_interval,y0,k1,k2):\n",
    "\n",
    "    Y = [y0]\n",
    "    dt = 0.001 # integration step\n",
    "    t_start = time_interval[0]\n",
    "    t_max = time_interval[1]\n",
    "    T = [t_start]\n",
    "    while t_start <= t_max:\n",
    "        Y.append( Y[-1] + np.multiply(dt,dydt(t_start, Y[-1],k1,k2)))\n",
    "        t_start = t_start + dt\n",
    "        T.append(t_start)\n",
    "\n",
    "    return (T,Y)"
   ]
  },
  {
   "cell_type": "markdown",
   "metadata": {},
   "source": [
    "Set initial parameters"
   ]
  },
  {
   "cell_type": "code",
   "execution_count": 4,
   "metadata": {},
   "outputs": [],
   "source": [
    "k1 = 0.1\n",
    "k2 = 0.3\n",
    "A0, B0 = 1, 0"
   ]
  },
  {
   "cell_type": "markdown",
   "metadata": {},
   "source": [
    "We use a <code>lambda</code>, which creates a function. Here we use this function to pass in the parameters <code>k1</code> and <code>k2</code>, and generate a function <code>dydt_withks</code> that incorporates them."
   ]
  },
  {
   "cell_type": "code",
   "execution_count": 5,
   "metadata": {},
   "outputs": [],
   "source": [
    "dydt_withks = lambda t,y: dydt(t,y,k1,k2)"
   ]
  },
  {
   "cell_type": "markdown",
   "metadata": {},
   "source": [
    "We then numerically integrate the ODEs with <code>scipy.integrate.solve_ivp</code> (where <code>solve_ivp</code> stands for solve initial value problem) and method RK45, equivalent to ODE45 in Matlab. We also measure how long the solution takes with a timer called <code>time_for_num_int_by_ode45</code>."
   ]
  },
  {
   "cell_type": "code",
   "execution_count": 6,
   "metadata": {},
   "outputs": [
    {
     "name": "stdout",
     "output_type": "stream",
     "text": [
      "time for ODE45,  0.004792845999986639\n",
      "Equilibrium points of A, B\n",
      "0.6870466535300073 0.15647667323499626\n"
     ]
    }
   ],
   "source": [
    "start = timer()\n",
    "solution = scipy.integrate.solve_ivp(dydt_withks, t_span=(0,10), y0=(A0,B0), method='RK45', rtol=1e-6)\n",
    "end = timer()\n",
    "time_for_num_int_by_ode45 = end-start\n",
    "print(\"time for ODE45, \",   time_for_num_int_by_ode45)\n",
    "\n",
    "t_ode45 = solution.t\n",
    "A_ode45 = solution.y[0]\n",
    "B_ode45 = solution.y[1]\n",
    "print(\"Equilibrium points of A, B\")\n",
    "print(A_ode45[-1],B_ode45[-1])"
   ]
  },
  {
   "cell_type": "markdown",
   "metadata": {},
   "source": [
    "Do the same with our homegrown Euler method."
   ]
  },
  {
   "cell_type": "code",
   "execution_count": 8,
   "metadata": {},
   "outputs": [
    {
     "name": "stdout",
     "output_type": "stream",
     "text": [
      "time for Euler,  0.06091121600002225\n"
     ]
    }
   ],
   "source": [
    "start = timer()\n",
    "solution = euler(dydt, (0,10), np.array([A0,B0]), k1, k2)\n",
    "end = timer()\n",
    "time_for_num_int_by_euler = end-start\n",
    "print(\"time for Euler, \", time_for_num_int_by_euler)\n",
    "t_euler = solution[0]\n",
    "A_euler = [A for (A,B) in solution[1]]\n",
    "B_euler = [B for (A,B) in solution[1]]"
   ]
  },
  {
   "cell_type": "code",
   "execution_count": 16,
   "metadata": {},
   "outputs": [
    {
     "data": {
      "text/plain": [
       "1.7320508075688772"
      ]
     },
     "execution_count": 16,
     "metadata": {},
     "output_type": "execute_result"
    }
   ],
   "source": [
    "A = A_ode45[-1]\n",
    "B = B_ode45[-1]\n",
    "-0.2*A**2 + B*0.6\n",
    "np.sqrt(3)"
   ]
  },
  {
   "cell_type": "markdown",
   "metadata": {},
   "source": [
    "Plot the results."
   ]
  },
  {
   "cell_type": "code",
   "execution_count": 11,
   "metadata": {},
   "outputs": [
    {
     "data": {
      "image/png": "[encoded data removed]",
      "text/plain": [
       "<Figure size 432x288 with 1 Axes>"
      ]
     },
     "metadata": {
      "needs_background": "light"
     },
     "output_type": "display_data"
    }
   ],
   "source": [
    "fig = plt.figure()\n",
    "ax = fig.add_subplot(1, 1, 1)\n",
    "ax.plot(t_ode45, (A_ode45), color='tab:blue',label='A(t)')\n",
    "ax.plot(t_ode45, (B_ode45), color='tab:orange',label='B(t)')\n",
    "ax.set_title('OD45 solution')\n",
    "ax.set_xlabel('time')\n",
    "ax.set_ylabel('solution')\n",
    "ax.legend() \n",
    "plt.show()"
   ]
  },
  {
   "cell_type": "code",
   "execution_count": 9,
   "metadata": {},
   "outputs": [
    {
     "data": {
      "image/png": "[encoded data removed]",
      "text/plain": [
       "<Figure size 432x288 with 1 Axes>"
      ]
     },
     "metadata": {
      "needs_background": "light"
     },
     "output_type": "display_data"
    }
   ],
   "source": [
    "fig = plt.figure()\n",
    "ax = fig.add_subplot(1, 1, 1)\n",
    "ax.plot(t_euler, (A_euler), color='tab:blue',label='A(t)')\n",
    "ax.plot(t_euler, (B_euler), color='tab:orange',label='B(t)')\n",
    "ax.set_title('Euler solution')\n",
    "ax.set_xlabel('time')\n",
    "ax.set_ylabel('solution')\n",
    "ax.legend() \n",
    "plt.show()"
   ]
  },
  {
   "cell_type": "markdown",
   "metadata": {},
   "source": [
    "And we're done."
   ]
  }
 ],
 "metadata": {
  "kernelspec": {
   "display_name": "Python 3",
   "language": "python",
   "name": "python3"
  },
  "language_info": {
   "codemirror_mode": {
    "name": "ipython",
    "version": 3
   },
   "file_extension": ".py",
   "mimetype": "text/x-python",
   "name": "python",
   "nbconvert_exporter": "python",
   "pygments_lexer": "ipython3",
   "version": "3.7.6"
  }
 },
 "nbformat": 4,
 "nbformat_minor": 4
}
